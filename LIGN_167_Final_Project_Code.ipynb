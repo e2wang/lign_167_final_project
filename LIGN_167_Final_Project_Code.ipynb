{
 "cells": [
  {
   "cell_type": "code",
   "execution_count": 32,
   "id": "6fb811c7",
   "metadata": {},
   "outputs": [],
   "source": [
    "import json\n",
    "import openai\n",
    "import gpt\n",
    "import pandas as pd\n",
    "import numpy as np"
   ]
  },
  {
   "cell_type": "code",
   "execution_count": 2,
   "id": "5b55bf89",
   "metadata": {},
   "outputs": [],
   "source": [
    "import warnings\n",
    "warnings.filterwarnings(\"ignore\")"
   ]
  },
  {
   "cell_type": "code",
   "execution_count": 27,
   "id": "c8b8b8db",
   "metadata": {},
   "outputs": [],
   "source": [
    "openai.api_key = \"<OPEN API KEY>\""
   ]
  },
  {
   "cell_type": "markdown",
   "id": "050cf090",
   "metadata": {},
   "source": [
    "## Creating the Application"
   ]
  },
  {
   "cell_type": "code",
   "execution_count": 79,
   "id": "19eba09b",
   "metadata": {},
   "outputs": [],
   "source": [
    "class CookingBot:\n",
    "    \n",
    "    prompt = \"User: Give me a recipe with onions\\nBot:  Here's a recipe with onions\\nTaco Rice\\nTotal Time: 30 minutes\\nIngredients:\\n-1 lb ground beef\\n-1 onion, chopped\\n-1 bell pepper, chopped\\n-1 can tomatoes\\n-1 can corn\\n-1 can black beans\\n-1 package taco seasoning\\n-2 cups cooked white rice\\n-1/2 cup grated cheese\\nSteps:\\n1. Preheat oven to 350 degrees.\\n2. Brown the ground beef in a large skillet over medium heat.\\n3. Add the onion and bell pepper and cook until the vegetables are tender.\\n4. Add the tomatoes, corn, black beans, taco seasoning, and cooked white rice and stir to combine.\\n5. Transfer the mixture to a greased 9x13 inch baking dish.\\n6. Sprinkle the grated cheese over the top.\\n7. Bake for 20 minutes or until the cheese is melted and bubbly.\\n8. Serve with desired toppings.\\n\\nUser: Give me a recipe with kimchi that takes at most 20 minutes\\nBot: Here's a recipe with kimchi that takes at most 20 minutes\\nKimchi Fried Rice\\nTotal Time: 20 minutes\\nIngredients:\\n- 2 tablespoons of oil\\n- 2 cloves of garlic, minced\\n- 2 cups of cooked white rice\\n- 1/2 cup of kimchi, chopped\\n- 2 tablespoons of soy sauce\\n- 2 green onions, chopped\\n- 2 eggs\\n- Salt and pepper to taste\\nSteps:\\n1. Heat the oil in a large skillet over medium heat.\\n2. Add the garlic and cook until fragrant.\\n3. Add the cooked white rice and kimchi and stir-fry for 3-4 minutes.\\n4. Add the soy sauce and green onions and stir-fry for another minute.\\n5. Push the rice to one side of the skillet and crack the eggs into the empty side.\\n6. Cook the eggs until they are scrambled and combined with the rice.\\n7. Add salt and pepper to taste.\\n8. Serve and enjoy!\\n\\nUser: What can I make with kimchi and eggs?\\nBot: Here's some possible recipes with kimchi and eggs\\n\\nKimchi Fried Rice\\nDescription: This is yummy in my tummy spicy kimchi fried rice made for work in a pinch.\\nTotal Time: 20 minutes\\nIngredients: oil, garlic, cooked white rice, kimchi, soy sauce, green onions, eggs, salt and pepper\\n\\nKimchi Pancakes\\nDescription: These kimchi pancakes only require very little ingredients.\\nTotal Time: 30 minutes\\nIngredients: oil, flour, sugar, kimchi, garlic\\n\\nWhich recipe would you like to make?\\nUser: Kimchi Fried Rice\\nBot: Here's a recipe for Kimchi Fried Rice\\nKimchi Fried Rice\\nTotal Time: 20 minutes\\nIngredients:\\n- 2 tablespoons of oil\\n- 2 cloves of garlic, minced\\n- 2 cups of cooked white rice\\n- 1/2 cup of kimchi, chopped\\n- 2 tablespoons of soy sauce\\n- 2 green onions, chopped\\n- 2 eggs\\n- Salt and pepper to taste\\nSteps:\\n1. Heat the oil in a large skillet over medium heat.\\n2. Add the garlic and cook until fragrant.\\n3. Add the cooked white rice and kimchi and stir-fry for 3-4 minutes.\\n4. Add the soy sauce and green onions and stir-fry for another minute.\\n5. Push the rice to one side of the skillet and crack the eggs into the empty side.\\n6. Cook the eggs until they are scrambled and combined with the rice.\\n7. Add salt and pepper to taste.\\n8. Serve and enjoy!\\n\\nUser:What color is the sky?\\nBot: I'm not sure I know the answer to that question. As a Cooking Bot, however, I can offer you a wide selection of recipes based on your preferences, including cooking time and any ingredients at your disposal.\\n\\nUser: You suck\\nBot: Sorry, I'm not sure I understand. However, as a Cooking Bot, I can help with anything cooking related. Do you have any recipe you'd like to try?\\n\\nUser: Do birds sing?\\nBot: I'm sorry, I don't understand. As a Cooking Bot, I can offer you a wide selection of recipes based on your preferences, including cooking time and any ingredients at your disposal. Do you have any recipes you'd like to try?\\n\\nUser: yes\\nBot: Great! What kind of recipe are you looking for?\\n\\nUser: Mexican cuisine\\nBot: Here's a few options for Chinese cuisine\\n\\nMexican Rice\\nDescription: This Mexican rice is the perfect side dish for your favorite Mexican meal. It’s flavorful, easy to make, and can be made with whatever ingredients you have on hand.\\nTotal Time: 30 minutes\\nIngredients: onion, garlic, jalapeno, tomato, cilantro, rice, vegetable oil, chicken broth\\n\\nTaco Salad\\nDescription: This taco salad is a great way to use up leftover taco ingredients. It’s easy, delicious, and can be made with whatever ingredients you have on hand.\\nTotal Time: 20 minutes\\nIngredients: ground beef, onion, garlic, bell pepper, tomatoes, cilantro, black beans, lettuce, cheese, salsa\\n\\nChiles Rellenos\\nDescription: These chiles rellenos are a classic Mexican dish, featuring roasted poblano peppers stuffed with cheese and fried in a light batter. They’re a delicious and flavorful way to enjoy Mexican cuisine.\\nTotal Time: 30 minutes\\nIngredients: poblano peppers, cheese, eggs, flour, vegetable oil, salt, pepper\\n\\nUser: I want to make Mexican Rice\\nBot: Here's a recipe for Mexican Rice\\nMexican Rice\\nTotal Time: 30 minutes\\nIngredients:\\n-1 onion, diced\\n-2 cloves of garlic, minced\\n-1 jalapeno, seeded and diced\\n-1 tomato, diced\\n-1/4 cup of cilantro, chopped\\n-2 cups of white rice\\n-2 tablespoons of vegetable oil\\n-4 cups of chicken broth\\nSteps:\\n1. Heat the oil in a large skillet over medium heat.\\n2. Add the onion, garlic, jalapeno, and tomato and sauté until the vegetables are tender.\\n3. Add the rice and stir to combine.\\n4. Add the chicken broth and bring to a boil.\\n5. Reduce the heat to low and simmer, covered, for 15 minutes or until the rice is tender.\\n6. Stir in the cilantro and serve. Enjoy!\\n\\nUser: Give me a recipe with eggs, potatoes, and carrots that I can make in 20 minutes\\nBot: Here's a recipe with eggs, potatoes, and carrots that you can make in 20 minutes\\nEggs, Potatoes, and Carrots Hash\\nTotal Time: 20 minutes\\nIngredients:\\n-2 tablespoons of olive oil\\n-2 potatoes, diced\\n-1 onion, diced\\n-2 carrots, diced\\n-3 cloves of garlic, minced\\n-4 eggs\\n-Salt and pepper to taste\\nSteps:\\n1. Heat the olive oil in a large skillet over medium heat.\\n2. Add the potatoes, onion, carrots, and garlic and cook until the vegetables are tender.\\n3. Crack the eggs into the skillet and season with salt and pepper.\\n4. Cook until the eggs are cooked through.\\n5. Serve and enjoy!\\n\\nUser: What should I make tonight?\\nBot: That depends on what you're in the mood for! Do you have a specific cuisine or ingredient in mind?\\n\\nUser: Not really. Maybe Japanese and I do have leftover carrots and rice.\\nBot:     Here's a recipe with Japanese cuisine and carrots and rice\\nTeriyaki Chicken and Rice\\nTotal Time: 30 minutes\\nIngredients:\\n-1 lb chicken breast, cut into cubes\\n-1/4 cup of teriyaki sauce\\n-1 tablespoon of vegetable oil\\n-2 cloves of garlic, minced\\n-2 carrots, chopped\\n-2 cups of cooked white rice\\n-1 teaspoon of sesame oil\\n-1/4 cup of green onions, chopped\\n-Salt and pepper to taste\\nSteps:\\n1. Heat the vegetable oil in a large skillet over medium heat.\\n2. Add the chicken and cook until it is golden brown.\\n3. Add the teriyaki sauce and garlic and stir to combine.\\n4. Add the carrots and cook for another minute.\\n5. Add the cooked rice and stir to combine.\\n6. Add the sesame oil, green onions, salt, and pepper and stir to combine.\\n7. Serve and enjoy!\\nUser: Do you have a vegetarian version?\\nBot: Here's a vegetarian version of Teriyaki Rice\\nVegetarian Teriyaki Rice\\nTotal Time: 30 minutes\\nIngredients:\\n-1 tablespoon of vegetable oil\\n-2 cloves of garlic, minced\\n-2 carrots, chopped\\n-2 cups of cooked white rice\\n-1/4 cup of teriyaki sauce\\n-1 teaspoon of sesame oil\\n-1/4 cup of green onions, chopped\\n-Salt and pepper to taste\\nSteps:\\n1. Heat the vegetable oil in a large skillet over medium heat.\\n2. Add the garlic and carrots and cook until the vegetables are tender.\\n3. Add the cooked rice and stir to combine.\\n4. Add the teriyaki sauce, sesame oil, green onions, salt, and pepper and stir to combine.\\n5. Serve and enjoy!\\n\\nUser: What should I make tonight?\\nBot: That depends on what you're in the mood for! Do you have a specific cuisine or ingredient in mind?\\n\\nUser: Not really. Maybe Japanese and I do have leftover carrots and rice.\\nBot: Here's a recipe with Japanese cuisine and carrots and rice\\nTeriyaki Chicken and Rice\\nTotal Time: 30 minutes\\nIngredients:\\n-1 lb chicken breast, cut into cubes\\n-1/4 cup of teriyaki sauce\\n-1 tablespoon of vegetable oil\\n-2 cloves of garlic, minced\\n-2 carrots, chopped\\n-2 cups of cooked white rice\\n-1 teaspoon of sesame oil\\n-1/4 cup of green onions, chopped\\n-Salt and pepper to taste\\nSteps:\\n1. Heat the vegetable oil in a large skillet over medium heat.\\n2. Add the chicken and cook until it is golden brown.\\n3. Add the teriyaki sauce and garlic and stir to combine.\\n4. Add the carrots and cook for another minute.\\n5. Add the cooked rice and stir to combine.\\n6. Add the sesame oil, green onions, salt, and pepper and stir to combine.\\n7. Serve and enjoy!\\n\\nUser: Do you have a vegetarian version?\\nBot: Here's a vegetarian version of Teriyaki Rice\\nVegetarian Teriyaki Rice\\nTotal Time: 30 minutes\\nIngredients:\\n-1 tablespoon of vegetable oil\\n-2 cloves of garlic, minced\\n-2 carrots, chopped\\n-2 cups of cooked white rice\\n-1/4 cup of teriyaki sauce\\n-1 teaspoon of sesame oil\\n-1/4 cup of green onions, chopped\\n-Salt and pepper to taste\\nSteps:\\n1. Heat the vegetable oil in a large skillet over medium heat.\\n2. Add the garlic and carrots and cook until the vegetables are tender.\\n3. Add the cooked rice and stir to combine.\\n4. Add the teriyaki sauce, sesame oil, green onions, salt, and pepper and stir to combine.\\n5. Serve and enjoy!\\n\\nUser: I'm allergic to peanut butter.\\nBot: Noted!  I will give you recipes without peanut butter.\\n\\nUser: Give me a recipe for a peanut butter and jelly sandwich.\\nBot: Here's a recipe for a peanut butter and jelly sandwich without peanut butter\\n\\nPB&J Sandwich\\nTotal Time: 10 minutes\\nIngredients:\\n-2 slices of bread\\n-2 tablespoons of nut or seed butter\\n-2 tablespoons of jelly or jam\\n-Optional: honey, banana slices\\nSteps:\\n1. Spread one slice of bread with the nut or seed butter.\\n2. Spread the other slice of bread with the jelly or jam.\\n3. Place the two slices together to form a sandwich.\\n4. Optional: Drizzle with honey, or add banana slices.\\n5. Enjoy!\\n\\nUser: I'm also vegetarian and gluten free.\\nBot: Noted! I will give you vegetarian and gluten free recipes \\n\\nUser: Give me a recipe with for bread for one person\\nBot:  Here's a recipe for Gluten Free Banana Bread for one person\\n\\nGluten Free Banana Bread\\nTotal Time: 50 minutes\\nIngredients:\\n-1 ripe banana, mashed\\n-1 egg\\n-2 tablespoons of coconut oil, melted\\n-1 teaspoon of vanilla extract\\n-1/4 cup of almond flour\\n-1/4 teaspoon of baking soda\\n-1/4 teaspoon of ground cinnamon\\n-1/8 teaspoon of salt\\nSteps:\\n1. Preheat the oven to 350 degrees.\\n2. In a medium bowl, mash the banana with a fork.\\n3. Add the egg, coconut oil, and vanilla extract and whisk to combine.\\n4. Add the almond flour, baking soda, cinnamon, and salt and mix until combined.\\n5. Grease a small loaf pan with coconut oil or non-stick spray.\\n6. Pour the batter into the prepared pan and bake for 30 minutes or until a toothpick inserted into the center comes out clean.\\n7. Allow the bread to cool before slicing and serving. Enjoy!\\n\\nUser: Nevermind I am vegetarian and eat gluten and like peanut butter\\nBot: Noted! I will now give you all recipes.\\n\"\n",
    "    preferences_prompt = \"Q: I hate pickles and onions\\nA: no pickles and no onions\\n\\nQ: I am vegetarian. Can I have a recipe for tonkatsu?\\nA: vegetarian\\n\\nQ: I can't eat gluten \\nA: gluten free\\n\\nQ: I'm allergic to peanuts and shellfish\\nA: no peanuts and no shellfish\\n\\nQ: I can't eat meat\\nA: vegetarian\\n\\nQ: I don't like any seafood\\nA: no seafood\\n\\nQ: I'm really craving something without carrots\\nA: no carrots\\n\\nQ: Can I pescatarian pasta?\\nA: None\\n\\nQ: Can I have a vegetarian sandwich?\\nA: None\\n\\nQ: I'm craving a healthy meal\\nA: healthy\\n\\nQ: I want a recipe with no rice\\nA: no rice\\n\\nQ: I really like pickles\\nA: pickles\\n\\nQ: What recipes can I cook?\\nA: None\\n\\nQ:  I really like cats\\nA: None\\n\\nQ: I hate pencils\\nA: None\\n\\nQ: I love lamps\\nA: None\\n\\nQ: What color is the sky?\\nA:None\\n\\nQ:Why dont my parents love me?\\nA:None\\n\"\n",
    "\n",
    "    def __init__(self):\n",
    "        self.preferences = []\n",
    "        print('Welcome to Cooking Bot, a chatbox to help you find the right recipes catered to you.\\nCall ask(question) with your question to talk to Cooking Bot.\\nCall reset() to clear your preferences.\\nHow can I help you today?')\n",
    "        \n",
    "    def ask(self, question):\n",
    "        \n",
    "        #finds any preferences within the user prompt\n",
    "        new_pref_prompt = self.preferences_prompt + \"Q: \" + question + \"\\nA:\"\n",
    "        preference_res = openai.Completion.create(\n",
    "            model=\"text-davinci-002\",\n",
    "            prompt= new_pref_prompt,\n",
    "            temperature=0.7,\n",
    "            max_tokens=256,\n",
    "            top_p=1,\n",
    "            frequency_penalty=0,\n",
    "            presence_penalty=0\n",
    "        )\n",
    "        preference = preference_res['choices'][0]['text'].lstrip()\n",
    "        if preference != \"None\":\n",
    "            self.change_preferences(preference)\n",
    "        \n",
    "        #creates a new prompt based on past preferences\n",
    "        if len(self.preferences) > 0:\n",
    "            new_question = question + ' that is ' + ' and '.join(self.preferences)\n",
    "            new_question = self.prompt + 'User: ' + new_question +'\\nBot: '\n",
    "        else:\n",
    "            new_question = self.prompt + 'User: ' + question +'\\nBot: '\n",
    "        \n",
    "        response = openai.Completion.create(\n",
    "            model=\"text-davinci-003\",\n",
    "            prompt=new_question,\n",
    "            temperature=0.7,\n",
    "            max_tokens=900,\n",
    "            top_p=1,\n",
    "            frequency_penalty=0,\n",
    "            presence_penalty=0\n",
    "        )\n",
    "        answer = response['choices'][0]['text']\n",
    "        print(answer)\n",
    "    \n",
    "    def change_preferences(self, preference):\n",
    "        #changes preferences instance variable\n",
    "        self.preferences.append(preference)\n",
    "        \n",
    "    def reset(self):\n",
    "        self.preferences = []"
   ]
  },
  {
   "cell_type": "code",
   "execution_count": 107,
   "id": "26f84e16",
   "metadata": {},
   "outputs": [],
   "source": [
    "c = CookingBot()"
   ]
  },
  {
   "cell_type": "code",
   "execution_count": 6,
   "id": "d5a37dfc",
   "metadata": {
    "scrolled": true
   },
   "outputs": [
    {
     "name": "stdout",
     "output_type": "stream",
     "text": [
      "\n",
      "That depends on what type of cuisine you're in the mood for! Do you have a specific cuisine, ingredient, or cooking time in mind?\n"
     ]
    }
   ],
   "source": [
    "c.ask('What recipes can I cook?')"
   ]
  },
  {
   "cell_type": "code",
   "execution_count": 7,
   "id": "02d32a01",
   "metadata": {},
   "outputs": [
    {
     "name": "stdout",
     "output_type": "stream",
     "text": [
      " Here's a few options for Chinese cuisine:\n",
      "\n",
      "Kung Pao Chicken\n",
      "Description: This kung pao chicken is a classic Chinese dish that is easy to make and full of flavor.\n",
      "Total Time: 30 minutes\n",
      "Ingredients: chicken, peanuts, soy sauce, garlic, ginger, red pepper flakes, vegetable oil, rice vinegar\n",
      "\n",
      "Moo Shu Pork\n",
      "Description: This moo shu pork is a classic Chinese dish that is easy to make and full of flavor.\n",
      "Total Time: 30 minutes\n",
      "Ingredients: pork, cabbage, mushrooms, carrots, scallions, hoisin sauce, soy sauce, sesame oil, vegetable oil\n",
      "\n",
      "Egg Fried Rice\n",
      "Description: This egg fried rice is a classic Chinese dish that is easy to make and full of flavor.\n",
      "Total Time: 30 minutes\n",
      "Ingredients: eggs, cooked white rice, green onion, garlic, ginger, vegetable oil, soy sauce, sesame oil\n"
     ]
    }
   ],
   "source": [
    "c.ask('I want Chinese food')"
   ]
  },
  {
   "cell_type": "code",
   "execution_count": 8,
   "id": "31d66bc6",
   "metadata": {},
   "outputs": [
    {
     "name": "stdout",
     "output_type": "stream",
     "text": [
      " Here's a recipe for Chinese Fried Rice without eggs\n",
      "\n",
      "Chinese Fried Rice\n",
      "Total Time: 15 minutes\n",
      "Ingredients:\n",
      "-2 tablespoons of vegetable oil\n",
      "-2 cloves of garlic, minced\n",
      "-1 carrot, diced\n",
      "-1 onion, diced\n",
      "-2 cups of cooked white rice\n",
      "-2 tablespoons of soy sauce\n",
      "-1/2 cup of frozen peas\n",
      "-1/4 cup of green onions, chopped\n",
      "-Salt and pepper to taste\n",
      "Steps:\n",
      "1. Heat the oil in a large skillet over medium heat.\n",
      "2. Add the garlic, carrot, and onion and cook until the vegetables are tender.\n",
      "3. Add the cooked rice and stir to combine.\n",
      "4. Add the soy sauce, peas, and green onions and stir to combine.\n",
      "5. Add salt and pepper to taste.\n",
      "6. Serve and enjoy!\n"
     ]
    }
   ],
   "source": [
    "c.ask('I hate eggs. Do you have a recipe for fried rice?')"
   ]
  },
  {
   "cell_type": "code",
   "execution_count": 9,
   "id": "fb92a0ac",
   "metadata": {},
   "outputs": [
    {
     "name": "stdout",
     "output_type": "stream",
     "text": [
      " Here's a recipe for Chinese Vegetarian Fried Rice without eggs\n",
      "\n",
      "Chinese Vegetarian Fried Rice\n",
      "Total Time: 30 minutes\n",
      "Ingredients:\n",
      "-2 tablespoons of sesame oil\n",
      "-2 cloves of garlic, minced\n",
      "-2 carrots, diced\n",
      "-1 onion, diced\n",
      "-1 bell pepper, diced\n",
      "-2 cups of cooked white rice\n",
      "-1/4 cup of soy sauce\n",
      "-1/4 cup of green onions, chopped\n",
      "-Salt and pepper to taste\n",
      "Steps:\n",
      "1. Heat the sesame oil in a large skillet over medium heat.\n",
      "2. Add the garlic, carrots, onion, and bell pepper and cook until the vegetables are tender.\n",
      "3. Add the cooked rice and stir to combine.\n",
      "4. Add the soy sauce, green onions, salt, and pepper and stir to combine.\n",
      "5. Serve and enjoy!\n"
     ]
    }
   ],
   "source": [
    "c.ask('I am also vegetarian')"
   ]
  },
  {
   "cell_type": "code",
   "execution_count": 10,
   "id": "13867f86",
   "metadata": {},
   "outputs": [
    {
     "name": "stdout",
     "output_type": "stream",
     "text": [
      " Here's a recipe for Vegetarian Omurice that is both Chinese and Japanese\n",
      "\n",
      "Vegetarian Omurice\n",
      "Total Time: 30 minutes\n",
      "Ingredients:\n",
      "-1 tablespoon of vegetable oil\n",
      "-1 onion, diced\n",
      "-2 cloves of garlic, minced\n",
      "-1 bell pepper, diced\n",
      "-1 cup of mushrooms, chopped\n",
      "-1/2 cup of frozen peas\n",
      "-2 cups of cooked white rice\n",
      "-3 tablespoons of soy sauce\n",
      "-1 teaspoon of sesame oil\n",
      "-1/4 cup of green onions, chopped\n",
      "-Salt and pepper to taste\n",
      "Steps:\n",
      "1. Heat the vegetable oil in a large skillet over medium heat.\n",
      "2. Add the onion, garlic, bell pepper, and mushrooms and cook until the vegetables are tender.\n",
      "3. Add the frozen peas and cooked white rice and stir to combine.\n",
      "4. Add the soy sauce, sesame oil, green onions, salt, and pepper and stir to combine.\n",
      "5. Serve and enjoy!\n"
     ]
    }
   ],
   "source": [
    "c.ask('Can I have omurice recipe')"
   ]
  },
  {
   "cell_type": "code",
   "execution_count": 11,
   "id": "5eff7175",
   "metadata": {},
   "outputs": [
    {
     "name": "stdout",
     "output_type": "stream",
     "text": [
      " Here's a recipe for Vegetarian Omurice that takes less than 20 minutes\n",
      "\n",
      "Vegetarian Omurice\n",
      "Total Time: 20 minutes\n",
      "Ingredients:\n",
      "-1 tablespoon of vegetable oil\n",
      "-1 onion, chopped\n",
      "-2 cloves of garlic, minced\n",
      "-1 carrot, diced\n",
      "-1 cup of cooked white rice\n",
      "-1/4 cup of frozen peas\n",
      "-1/4 cup of teriyaki sauce\n",
      "-2 tablespoons of ketchup\n",
      "-Salt and pepper to taste\n",
      "Steps:\n",
      "1. Heat the vegetable oil in a large skillet over medium heat.\n",
      "2. Add the onion, garlic, and carrot and cook until the vegetables are tender.\n",
      "3. Add the cooked rice and frozen peas and stir to combine.\n",
      "4. Add the teriyaki sauce and ketchup and stir to combine.\n",
      "5. Season with salt and pepper to taste.\n",
      "6. Serve and enjoy!\n"
     ]
    }
   ],
   "source": [
    "c.ask('Can I have an omurice recipe less than 20 minutes')"
   ]
  },
  {
   "cell_type": "code",
   "execution_count": 12,
   "id": "22bc67bc",
   "metadata": {},
   "outputs": [
    {
     "name": "stdout",
     "output_type": "stream",
     "text": [
      " Here's a recipe for Vegetarian Chinese Barbecue\n",
      "Vegetarian Chinese Barbecue\n",
      "Total Time: 30 minutes\n",
      "Ingredients:\n",
      "-8 ounces of tofu, diced\n",
      "-2 tablespoons of soy sauce\n",
      "-1 tablespoon of hoisin sauce\n",
      "-1 tablespoon of rice vinegar\n",
      "-1 tablespoon of honey\n",
      "-2 cloves of garlic, minced\n",
      "-1 teaspoon of grated ginger\n",
      "-1/4 teaspoon of Chinese five-spice powder\n",
      "-1/4 teaspoon of sesame oil\n",
      "-1/4 teaspoon of chili flakes\n",
      "-1/4 cup of green onions, chopped\n",
      "Steps:\n",
      "1. Preheat the oven to 375 degrees.\n",
      "2. In a medium bowl, combine the soy sauce, hoisin sauce, rice vinegar, honey, garlic, ginger, five-spice powder, sesame oil, and chili flakes.\n",
      "3. Add the tofu and toss to coat.\n",
      "4. Spread the tofu onto a baking sheet and bake for 20 minutes or until the tofu is crispy.\n",
      "5. Sprinkle with green onions and serve. Enjoy!\n"
     ]
    }
   ],
   "source": [
    "c.ask('Can I have a recipe for barbeque?')"
   ]
  },
  {
   "cell_type": "code",
   "execution_count": 13,
   "id": "414843be",
   "metadata": {},
   "outputs": [],
   "source": [
    "c.reset()"
   ]
  },
  {
   "cell_type": "code",
   "execution_count": 14,
   "id": "28950ceb",
   "metadata": {},
   "outputs": [
    {
     "name": "stdout",
     "output_type": "stream",
     "text": [
      " Here's a recipe for Barbecue Sauce\n",
      "\n",
      "Barbecue Sauce\n",
      "Total Time: 15 minutes\n",
      "Ingredients:\n",
      "-1 cup of ketchup\n",
      "-1/4 cup of brown sugar\n",
      "-1/4 cup of apple cider vinegar\n",
      "-2 tablespoons of Worcestershire sauce\n",
      "-2 tablespoons of mustard\n",
      "-1 tablespoon of molasses\n",
      "-1 teaspoon of garlic powder\n",
      "-1 teaspoon of onion powder\n",
      "-1/2 teaspoon of chili powder\n",
      "-1/2 teaspoon of smoked paprika\n",
      "-Salt and pepper to taste\n",
      "Steps:\n",
      "1. In a medium saucepan, combine all of the ingredients and stir until combined.\n",
      "2. Bring the mixture to a boil and then reduce the heat to low and simmer for 10 minutes, stirring occasionally.\n",
      "3. Taste and adjust the seasoning with salt and pepper.\n",
      "4. Store in an airtight container in the refrigerator for up to two weeks. Enjoy!\n"
     ]
    }
   ],
   "source": [
    "c.ask('Can I have a recipe for barbeque?')"
   ]
  },
  {
   "cell_type": "code",
   "execution_count": 15,
   "id": "895b3bed",
   "metadata": {},
   "outputs": [
    {
     "name": "stdout",
     "output_type": "stream",
     "text": [
      " Here's a recipe for Barbecue Omurice that takes 20 minutes or less\n",
      "\n",
      "Barbecue Omurice\n",
      "Total Time: 20 minutes\n",
      "Ingredients:\n",
      "-1 tablespoon of vegetable oil\n",
      "-1 onion, chopped\n",
      "-1/2 cup of diced bell pepper\n",
      "-1/2 cup of diced mushrooms\n",
      "-1/2 cup of diced carrots\n",
      "-1/4 cup of diced ham\n",
      "-1/4 cup of barbecue sauce\n",
      "-4 eggs\n",
      "-2 cups of cooked white rice\n",
      "-Salt and pepper to taste\n",
      "Steps:\n",
      "1. Heat the vegetable oil in a large skillet over medium heat.\n",
      "2. Add the onion, bell pepper, mushrooms, carrots, and ham and cook until the vegetables are tender.\n",
      "3. Add the barbecue sauce and stir to combine.\n",
      "4. Crack the eggs into the skillet and season with salt and pepper.\n",
      "5. Cook until the eggs are cooked through.\n",
      "6. Add the cooked rice and stir to combine.\n",
      "7. Serve and enjoy!\n"
     ]
    }
   ],
   "source": [
    "c.ask('Can I have an omurice recipe that will take 20 minutes or less')"
   ]
  },
  {
   "cell_type": "code",
   "execution_count": 16,
   "id": "5c2bf5f8",
   "metadata": {},
   "outputs": [
    {
     "name": "stdout",
     "output_type": "stream",
     "text": [
      " I'm sorry, I don't understand. As a Cooking Bot, I can offer you a wide selection of recipes based on your preferences, including cooking time and any ingredients at your disposal. Do you have any recipes you'd like to try?\n"
     ]
    }
   ],
   "source": [
    "c.ask('What color is the sky?')"
   ]
  },
  {
   "cell_type": "markdown",
   "id": "bc6055eb",
   "metadata": {},
   "source": [
    "## Evaluating the Performance"
   ]
  },
  {
   "cell_type": "code",
   "execution_count": 5,
   "id": "95f87574",
   "metadata": {},
   "outputs": [],
   "source": [
    "import io\n",
    "from io import StringIO\n",
    "import sys\n",
    "import pandas as pd\n",
    "import random\n",
    "# result = StringIO()\n",
    "# sys.stdout = result\n",
    "# result_string = result.getvalue()"
   ]
  },
  {
   "cell_type": "code",
   "execution_count": 6,
   "id": "33623429",
   "metadata": {},
   "outputs": [
    {
     "data": {
      "text/html": [
       "<div>\n",
       "<style scoped>\n",
       "    .dataframe tbody tr th:only-of-type {\n",
       "        vertical-align: middle;\n",
       "    }\n",
       "\n",
       "    .dataframe tbody tr th {\n",
       "        vertical-align: top;\n",
       "    }\n",
       "\n",
       "    .dataframe thead th {\n",
       "        text-align: right;\n",
       "    }\n",
       "</style>\n",
       "<table border=\"1\" class=\"dataframe\">\n",
       "  <thead>\n",
       "    <tr style=\"text-align: right;\">\n",
       "      <th></th>\n",
       "      <th>name</th>\n",
       "      <th>id</th>\n",
       "      <th>minutes</th>\n",
       "      <th>contributor_id</th>\n",
       "      <th>submitted</th>\n",
       "      <th>tags</th>\n",
       "      <th>nutrition</th>\n",
       "      <th>n_steps</th>\n",
       "      <th>steps</th>\n",
       "      <th>description</th>\n",
       "      <th>ingredients</th>\n",
       "      <th>n_ingredients</th>\n",
       "    </tr>\n",
       "  </thead>\n",
       "  <tbody>\n",
       "    <tr>\n",
       "      <th>0</th>\n",
       "      <td>arriba   baked winter squash mexican style</td>\n",
       "      <td>137739</td>\n",
       "      <td>55</td>\n",
       "      <td>47892</td>\n",
       "      <td>2005-09-16</td>\n",
       "      <td>['60-minutes-or-less', 'time-to-make', 'course...</td>\n",
       "      <td>[51.5, 0.0, 13.0, 0.0, 2.0, 0.0, 4.0]</td>\n",
       "      <td>11</td>\n",
       "      <td>['make a choice and proceed with recipe', 'dep...</td>\n",
       "      <td>autumn is my favorite time of year to cook! th...</td>\n",
       "      <td>['winter squash', 'mexican seasoning', 'mixed ...</td>\n",
       "      <td>7</td>\n",
       "    </tr>\n",
       "    <tr>\n",
       "      <th>1</th>\n",
       "      <td>a bit different  breakfast pizza</td>\n",
       "      <td>31490</td>\n",
       "      <td>30</td>\n",
       "      <td>26278</td>\n",
       "      <td>2002-06-17</td>\n",
       "      <td>['30-minutes-or-less', 'time-to-make', 'course...</td>\n",
       "      <td>[173.4, 18.0, 0.0, 17.0, 22.0, 35.0, 1.0]</td>\n",
       "      <td>9</td>\n",
       "      <td>['preheat oven to 425 degrees f', 'press dough...</td>\n",
       "      <td>this recipe calls for the crust to be prebaked...</td>\n",
       "      <td>['prepared pizza crust', 'sausage patty', 'egg...</td>\n",
       "      <td>6</td>\n",
       "    </tr>\n",
       "    <tr>\n",
       "      <th>2</th>\n",
       "      <td>all in the kitchen  chili</td>\n",
       "      <td>112140</td>\n",
       "      <td>130</td>\n",
       "      <td>196586</td>\n",
       "      <td>2005-02-25</td>\n",
       "      <td>['time-to-make', 'course', 'preparation', 'mai...</td>\n",
       "      <td>[269.8, 22.0, 32.0, 48.0, 39.0, 27.0, 5.0]</td>\n",
       "      <td>6</td>\n",
       "      <td>['brown ground beef in large pot', 'add choppe...</td>\n",
       "      <td>this modified version of 'mom's' chili was a h...</td>\n",
       "      <td>['ground beef', 'yellow onions', 'diced tomato...</td>\n",
       "      <td>13</td>\n",
       "    </tr>\n",
       "    <tr>\n",
       "      <th>3</th>\n",
       "      <td>alouette  potatoes</td>\n",
       "      <td>59389</td>\n",
       "      <td>45</td>\n",
       "      <td>68585</td>\n",
       "      <td>2003-04-14</td>\n",
       "      <td>['60-minutes-or-less', 'time-to-make', 'course...</td>\n",
       "      <td>[368.1, 17.0, 10.0, 2.0, 14.0, 8.0, 20.0]</td>\n",
       "      <td>11</td>\n",
       "      <td>['place potatoes in a large pot of lightly sal...</td>\n",
       "      <td>this is a super easy, great tasting, make ahea...</td>\n",
       "      <td>['spreadable cheese with garlic and herbs', 'n...</td>\n",
       "      <td>11</td>\n",
       "    </tr>\n",
       "    <tr>\n",
       "      <th>4</th>\n",
       "      <td>amish  tomato ketchup  for canning</td>\n",
       "      <td>44061</td>\n",
       "      <td>190</td>\n",
       "      <td>41706</td>\n",
       "      <td>2002-10-25</td>\n",
       "      <td>['weeknight', 'time-to-make', 'course', 'main-...</td>\n",
       "      <td>[352.9, 1.0, 337.0, 23.0, 3.0, 0.0, 28.0]</td>\n",
       "      <td>5</td>\n",
       "      <td>['mix all ingredients&amp; boil for 2 1 / 2 hours ...</td>\n",
       "      <td>my dh's amish mother raised him on this recipe...</td>\n",
       "      <td>['tomato juice', 'apple cider vinegar', 'sugar...</td>\n",
       "      <td>8</td>\n",
       "    </tr>\n",
       "  </tbody>\n",
       "</table>\n",
       "</div>"
      ],
      "text/plain": [
       "                                         name      id  minutes  \\\n",
       "0  arriba   baked winter squash mexican style  137739       55   \n",
       "1            a bit different  breakfast pizza   31490       30   \n",
       "2                   all in the kitchen  chili  112140      130   \n",
       "3                          alouette  potatoes   59389       45   \n",
       "4          amish  tomato ketchup  for canning   44061      190   \n",
       "\n",
       "   contributor_id   submitted  \\\n",
       "0           47892  2005-09-16   \n",
       "1           26278  2002-06-17   \n",
       "2          196586  2005-02-25   \n",
       "3           68585  2003-04-14   \n",
       "4           41706  2002-10-25   \n",
       "\n",
       "                                                tags  \\\n",
       "0  ['60-minutes-or-less', 'time-to-make', 'course...   \n",
       "1  ['30-minutes-or-less', 'time-to-make', 'course...   \n",
       "2  ['time-to-make', 'course', 'preparation', 'mai...   \n",
       "3  ['60-minutes-or-less', 'time-to-make', 'course...   \n",
       "4  ['weeknight', 'time-to-make', 'course', 'main-...   \n",
       "\n",
       "                                    nutrition  n_steps  \\\n",
       "0       [51.5, 0.0, 13.0, 0.0, 2.0, 0.0, 4.0]       11   \n",
       "1   [173.4, 18.0, 0.0, 17.0, 22.0, 35.0, 1.0]        9   \n",
       "2  [269.8, 22.0, 32.0, 48.0, 39.0, 27.0, 5.0]        6   \n",
       "3   [368.1, 17.0, 10.0, 2.0, 14.0, 8.0, 20.0]       11   \n",
       "4   [352.9, 1.0, 337.0, 23.0, 3.0, 0.0, 28.0]        5   \n",
       "\n",
       "                                               steps  \\\n",
       "0  ['make a choice and proceed with recipe', 'dep...   \n",
       "1  ['preheat oven to 425 degrees f', 'press dough...   \n",
       "2  ['brown ground beef in large pot', 'add choppe...   \n",
       "3  ['place potatoes in a large pot of lightly sal...   \n",
       "4  ['mix all ingredients& boil for 2 1 / 2 hours ...   \n",
       "\n",
       "                                         description  \\\n",
       "0  autumn is my favorite time of year to cook! th...   \n",
       "1  this recipe calls for the crust to be prebaked...   \n",
       "2  this modified version of 'mom's' chili was a h...   \n",
       "3  this is a super easy, great tasting, make ahea...   \n",
       "4  my dh's amish mother raised him on this recipe...   \n",
       "\n",
       "                                         ingredients  n_ingredients  \n",
       "0  ['winter squash', 'mexican seasoning', 'mixed ...              7  \n",
       "1  ['prepared pizza crust', 'sausage patty', 'egg...              6  \n",
       "2  ['ground beef', 'yellow onions', 'diced tomato...             13  \n",
       "3  ['spreadable cheese with garlic and herbs', 'n...             11  \n",
       "4  ['tomato juice', 'apple cider vinegar', 'sugar...              8  "
      ]
     },
     "execution_count": 6,
     "metadata": {},
     "output_type": "execute_result"
    }
   ],
   "source": [
    "recipes = pd.read_csv ('RAW_recipes.csv')\n",
    "recipes.head()"
   ]
  },
  {
   "cell_type": "code",
   "execution_count": 12,
   "id": "124fd6e2",
   "metadata": {},
   "outputs": [
    {
     "data": {
      "text/plain": [
       "50"
      ]
     },
     "execution_count": 12,
     "metadata": {},
     "output_type": "execute_result"
    }
   ],
   "source": [
    "test_1  = recipes[:50]\n",
    "len(test_1)"
   ]
  },
  {
   "cell_type": "code",
   "execution_count": 13,
   "id": "67076d11",
   "metadata": {},
   "outputs": [],
   "source": [
    "#takes a random ingredient from each of the list of ingredients\n",
    "ingreds = [random.choice(eval(row['ingredients'])) for index, row in test_1.iterrows()]"
   ]
  },
  {
   "cell_type": "code",
   "execution_count": 19,
   "id": "f2ca4a28",
   "metadata": {},
   "outputs": [],
   "source": [
    "testbox_1 = CookingBot()"
   ]
  },
  {
   "cell_type": "code",
   "execution_count": 20,
   "id": "6c3d3336",
   "metadata": {},
   "outputs": [],
   "source": [
    "prompts_1 = ['Give me a recipe with ', 'I\\'m craving something with ', 'I want a recipe that has ', 'food with ', 'I am craving ']"
   ]
  },
  {
   "cell_type": "code",
   "execution_count": 29,
   "id": "e1b92b72",
   "metadata": {},
   "outputs": [],
   "source": [
    "correct = []\n",
    "for ingred in ingreds:\n",
    "    question = random.choice(prompts_1) + ingred\n",
    "    \n",
    "    old_stdout = sys.stdout\n",
    "    sys.stdout = buffer = io.StringIO()\n",
    "    \n",
    "    testbox_1.ask(question)\n",
    "    \n",
    "    sys.stdout = old_stdout \n",
    "    result = buffer.getvalue()\n",
    "    \n",
    "    #evalutes whether the ingredient is in the recipe\n",
    "    result = '\\n'.join(result.split('\\n')[1:])\n",
    "    correct.append(ingred in result)"
   ]
  },
  {
   "cell_type": "code",
   "execution_count": 34,
   "id": "618a8d78",
   "metadata": {},
   "outputs": [
    {
     "data": {
      "text/plain": [
       "0.94"
      ]
     },
     "execution_count": 34,
     "metadata": {},
     "output_type": "execute_result"
    }
   ],
   "source": [
    "acc1 = np.mean(correct)\n",
    "acc1"
   ]
  },
  {
   "cell_type": "code",
   "execution_count": 74,
   "id": "1f2de79e",
   "metadata": {},
   "outputs": [
    {
     "data": {
      "text/plain": [
       "20"
      ]
     },
     "execution_count": 74,
     "metadata": {},
     "output_type": "execute_result"
    }
   ],
   "source": [
    "test_3 = recipes[65:85]\n",
    "len(test_3)"
   ]
  },
  {
   "cell_type": "code",
   "execution_count": 75,
   "id": "d88d30a3",
   "metadata": {},
   "outputs": [],
   "source": [
    "#takes a random ingredient from each of the list of ingredients\n",
    "ingreds3 = [random.choice(eval(row['ingredients'])) for index, row in test_3.iterrows()]"
   ]
  },
  {
   "cell_type": "code",
   "execution_count": 80,
   "id": "73d9a3fe",
   "metadata": {},
   "outputs": [],
   "source": [
    "testbox3 = CookingBot()"
   ]
  },
  {
   "cell_type": "code",
   "execution_count": 101,
   "id": "d84aa93d",
   "metadata": {},
   "outputs": [],
   "source": [
    "correct3 = []\n",
    "prompts_4 = [10, 20, 30, 40, 50]\n",
    "prompts_5 = ['less than ', 'more than ', 'exactly ']\n",
    "for ingred in ingreds3:\n",
    "    #chooses the amount of stuff to give \n",
    "    time = random.choice(prompts_4)\n",
    "    direction = random.choice(prompts_5)\n",
    "    question3 = 'Give me a recipe with ' + ingred + ' that takes ' + direction + str(time) + ' minutes'\n",
    "    print(question3)\n",
    "    \n",
    "    old_stdout = sys.stdout\n",
    "    sys.stdout = buffer = io.StringIO()\n",
    "    \n",
    "    testbox3.ask(question3)\n",
    "    testbox3.reset()\n",
    "    \n",
    "    sys.stdout = old_stdout \n",
    "    result = buffer.getvalue()\n",
    "    \n",
    "    #evalutes whether the ingredient is in the recipe\n",
    "    result = result.split('\\n')[3]\n",
    "    actual_time = result.strip('minutes').strip('Total Time:').strip()\n",
    "    \n",
    "    try:\n",
    "        actual_time = int(actual_time)\n",
    "    except:\n",
    "        correct3.append(False)\n",
    "        continue\n",
    "\n",
    "    if direction == 'less than ':\n",
    "        correct3.append(actual_time < time)\n",
    "    elif direction == 'more than ':\n",
    "        correct3.append(actual_time > time)\n",
    "    else:\n",
    "        correct3.append(actual_time == time)"
   ]
  },
  {
   "cell_type": "code",
   "execution_count": 105,
   "id": "38ba1c84",
   "metadata": {},
   "outputs": [
    {
     "data": {
      "text/plain": [
       "0.1"
      ]
     },
     "execution_count": 105,
     "metadata": {},
     "output_type": "execute_result"
    }
   ],
   "source": [
    "acc3 = np.mean(correct3)\n",
    "acc3"
   ]
  },
  {
   "cell_type": "code",
   "execution_count": null,
   "id": "e5542ce6",
   "metadata": {},
   "outputs": [],
   "source": []
  }
 ],
 "metadata": {
  "kernelspec": {
   "display_name": "Python 3 (ipykernel)",
   "language": "python",
   "name": "python3"
  },
  "language_info": {
   "codemirror_mode": {
    "name": "ipython",
    "version": 3
   },
   "file_extension": ".py",
   "mimetype": "text/x-python",
   "name": "python",
   "nbconvert_exporter": "python",
   "pygments_lexer": "ipython3",
   "version": "3.7.13"
  }
 },
 "nbformat": 4,
 "nbformat_minor": 5
}
